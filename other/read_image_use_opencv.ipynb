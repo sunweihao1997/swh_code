{
 "cells": [
  {
   "cell_type": "code",
   "execution_count": 3,
   "metadata": {},
   "outputs": [],
   "source": [
    "import cv2"
   ]
  },
  {
   "cell_type": "code",
   "execution_count": 6,
   "metadata": {},
   "outputs": [
    {
     "name": "stdout",
     "output_type": "stream",
     "text": [
      "[45 52 69]\n"
     ]
    }
   ],
   "source": [
    "# 图片路径\n",
    "image_path = '/Users/sunweihao/Downloads/P7270019.jpg'\n",
    "\n",
    "# 使用cv2.imread()读取图片\n",
    "image = cv2.imread(image_path)\n",
    "\n",
    "## 检查图片是否正确读取\n",
    "#if image is not None:\n",
    "#    # 使用cv2.imshow()显示图片\n",
    "#    cv2.imshow('Loaded Image', image)\n",
    "#\n",
    "#    # 等待任何键被按下\n",
    "#    cv2.waitKey(0)\n",
    "#\n",
    "#    # 关闭所有OpenCV创建的窗口\n",
    "#    cv2.destroyAllWindows()\n",
    "#else:\n",
    "#    print(\"Error: Image not found or unable to read.\")\n",
    "print(image[5, 5])\n"
   ]
  },
  {
   "cell_type": "markdown",
   "metadata": {},
   "source": []
  }
 ],
 "metadata": {
  "kernelspec": {
   "display_name": "Python 3.12.4 ('opencv')",
   "language": "python",
   "name": "python3"
  },
  "language_info": {
   "codemirror_mode": {
    "name": "ipython",
    "version": 3
   },
   "file_extension": ".py",
   "mimetype": "text/x-python",
   "name": "python",
   "nbconvert_exporter": "python",
   "pygments_lexer": "ipython3",
   "version": "3.12.4"
  },
  "orig_nbformat": 4,
  "vscode": {
   "interpreter": {
    "hash": "bff3d4160f94ad8bbc1fc821d19d9b777d15ff763d0b34abd52c71c86fcb63be"
   }
  }
 },
 "nbformat": 4,
 "nbformat_minor": 2
}
