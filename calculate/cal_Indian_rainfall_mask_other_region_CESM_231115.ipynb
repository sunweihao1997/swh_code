{
 "cells": [
  {
   "cell_type": "markdown",
   "metadata": {},
   "source": [
    "**2023-11-13**<p>\n",
    "**This script serves for the EUI research**<p>\n",
    "**This script purpose is the same as <cal_Indian_rainfall_mask_other_region_GPCC_231113.ipynb>, except this rainfall is from CESM simulation**"
   ]
  },
  {
   "cell_type": "code",
   "execution_count": null,
   "metadata": {},
   "outputs": [],
   "source": [
    "from matplotlib import projections\n",
    "import xarray as xr\n",
    "import numpy as np\n",
    "import cartopy.crs as ccrs\n",
    "import matplotlib.pyplot as plt\n",
    "import sys\n",
    "import cartopy\n",
    "import geopandas\n",
    "import rioxarray\n",
    "from shapely.geometry import mapping\n",
    "\n",
    "module_path = '/Users/sunweihao/local-code/module'\n",
    "sys.path.append(module_path)\n",
    "from module_sun import mask_use_shapefile"
   ]
  },
  {
   "cell_type": "markdown",
   "metadata": {},
   "source": [
    "<font color=red>1. Process the data</font>"
   ]
  },
  {
   "cell_type": "code",
   "execution_count": null,
   "metadata": {},
   "outputs": [],
   "source": [
    "data_path = '/Volumes/samssd/data/precipitation/CESM/'\n",
    "data_name = ['BTAL_precipitation_jjas_mean_231113.nc', 'noEU_precipitation_jjas_mean_231113.nc']\n",
    "\n",
    "shp_path = '/Volumes/samssd/data/shape/indian/'\n",
    "shp_name = 'IND_adm0.shp'\n",
    "\n",
    "# Mask the data out of the bound\n",
    "f0       = xr.open_dataset(data_path + data_name[0])\n",
    "f1       = xr.open_dataset(data_path + data_name[1])\n",
    "\n",
    "prect_con = mask_use_shapefile(f0, \"lat\", \"lon\", shp_path + shp_name)\n",
    "prect_neu = mask_use_shapefile(f1, \"lat\", \"lon\", shp_path + shp_name)\n",
    "#prect_con = f0.sel(lat=slice(0,35), lon=slice(70, 90))\n",
    "#prect_neu = f1.sel(lat=slice(0,35), lon=slice(70, 90))\n",
    "\n",
    "#for yyyy in range(157):\n",
    "#    print(np.nanmean(prect_con['PRECT_JJAS'].data[yyyy])) # (150, 96, 144)\n",
    "# 4. Give the axis information to the output\n",
    "ncfile  =  xr.Dataset(\n",
    "{\n",
    "    \"JJAS_precip_con\": ([\"time\", \"lat\", \"lon\"], prect_con['PRECT_JJAS'].data),\n",
    "    \"JJAS_precip_neu\": ([\"time\", \"lat\", \"lon\"], prect_neu['PRECT_JJAS'].data),\n",
    "},\n",
    "coords={\n",
    "    \"time\": ([\"time\"], np.linspace(1850, 1850 + 156, 157)),\n",
    "    \"lat\":  ([\"lat\"],  prect_con['lat'].data),\n",
    "    \"lon\":  ([\"lon\"],  prect_con['lon'].data),\n",
    "},\n",
    ")"
   ]
  },
  {
   "cell_type": "markdown",
   "metadata": {},
   "source": [
    "<font color=red>2. Whole Indian mean and trend</font>"
   ]
  },
  {
   "cell_type": "code",
   "execution_count": null,
   "metadata": {},
   "outputs": [],
   "source": [
    "ncfile_select = ncfile.sel(time=slice(1891, 2006))\n",
    "whole_precip_con  =  np.zeros((116))\n",
    "whole_precip_neu  =  np.zeros((116))\n",
    "for yyyy in range(116):\n",
    "    whole_precip_con[yyyy] = np.nanmean(ncfile_select['JJAS_precip_con'].data[yyyy])\n",
    "    whole_precip_neu[yyyy] = np.nanmean(ncfile_select['JJAS_precip_neu'].data[yyyy])\n",
    "#print(ncfile_select)"
   ]
  },
  {
   "cell_type": "markdown",
   "metadata": {},
   "source": [
    "<font color=red>3. Paint the trend of the whole Indian precipitation</font>"
   ]
  },
  {
   "cell_type": "code",
   "execution_count": null,
   "metadata": {},
   "outputs": [],
   "source": [
    "def cal_moving_average(x, w):\n",
    "        return np.convolve(x, np.ones(w), \"valid\") / w\n",
    "\n",
    "w = 13\n",
    "whole_precip_move_con = cal_moving_average(whole_precip_con, w)\n",
    "whole_precip_move_neu = cal_moving_average(whole_precip_neu, w)\n",
    "#print(whole_precip_move.shape) # 117 points\n",
    "\n",
    "fig, ax = plt.subplots()\n",
    "ax.plot(ncfile_select['time'].data, whole_precip_con , color='grey', linewidth=1.5)\n",
    "ax.plot(ncfile_select['time'].data, whole_precip_neu, color='grey', linestyle='--', linewidth=1.5)\n",
    "time_process = np.linspace(1891 + (w-1)/2, 2006 - (w-1)/2, 116 - (w-1))\n",
    "ax.plot(time_process, whole_precip_move_con, color='black', linewidth=2.5)\n",
    "ax.plot(time_process, whole_precip_move_neu, color='red', linewidth=2.5)\n",
    "\n",
    "\n",
    "plt.savefig(\"/Volumes/samssd/paint/EUI_CESM_whole_Indian_rainfall_trend_JJAS_moving13.png\", dpi=700)"
   ]
  },
  {
   "cell_type": "code",
   "execution_count": null,
   "metadata": {},
   "outputs": [],
   "source": [
    "def cal_moving_average(x, w):\n",
    "        return np.convolve(x, np.ones(w), \"valid\") / w\n",
    "\n",
    "w = 11\n",
    "whole_precip_move_con = cal_moving_average(whole_precip_con, w)\n",
    "whole_precip_move_neu = cal_moving_average(whole_precip_neu, w)\n",
    "#print(whole_precip_move.shape) # 117 points\n",
    "\n",
    "fig, ax = plt.subplots()\n",
    "ax.plot(ncfile_select['time'].data, whole_precip_con, color='grey', linewidth=1.5)\n",
    "ax.plot(ncfile_select['time'].data, whole_precip_neu, color='grey', linestyle='--', linewidth=1.5)\n",
    "time_process = np.linspace(1891 + (w-1)/2, 2006 - (w-1)/2, 116 - (w-1))\n",
    "ax.plot(time_process, whole_precip_move_con, color='black', linewidth=2.5)\n",
    "ax.plot(time_process, whole_precip_move_neu, color='red', linewidth=2.5)\n",
    "\n",
    "\n",
    "plt.savefig(\"/Volumes/samssd/paint/EUI_CESM_whole_Indian_rainfall_trend_JJAS_moving11.png\", dpi=700)"
   ]
  },
  {
   "cell_type": "code",
   "execution_count": null,
   "metadata": {},
   "outputs": [],
   "source": []
  }
 ],
 "metadata": {
  "kernelspec": {
   "display_name": "Python 3.12.0 ('geopandas')",
   "language": "python",
   "name": "python3"
  },
  "language_info": {
   "codemirror_mode": {
    "name": "ipython",
    "version": 3
   },
   "file_extension": ".py",
   "mimetype": "text/x-python",
   "name": "python",
   "nbconvert_exporter": "python",
   "pygments_lexer": "ipython3",
   "version": "3.12.0"
  },
  "orig_nbformat": 4,
  "vscode": {
   "interpreter": {
    "hash": "2886f6d821492c004b306e07bfe1ca1aa82e4446640e33d1025452418a80d62b"
   }
  }
 },
 "nbformat": 4,
 "nbformat_minor": 2
}
