{
 "cells": [
  {
   "cell_type": "markdown",
   "id": "3cbdea89-50e1-4c13-99f9-217042787357",
   "metadata": {},
   "source": [
    "**2023-11-13**<p>\n",
    "**This script is for purpose of comparing the precipitation from observation and model simulation**<p>\n",
    "**This script is to  calculate and paint the trend of the Indian precipitation**"
   ]
  },
  {
   "cell_type": "code",
   "execution_count": 2,
   "id": "ff150639-0da7-4ef1-9103-40b3ecba476f",
   "metadata": {},
   "outputs": [],
   "source": [
    "from matplotlib import projections\n",
    "import xarray as xr\n",
    "import numpy as np\n",
    "import cartopy.crs as ccrs\n",
    "import matplotlib.pyplot as plt\n",
    "import sys\n",
    "import cartopy\n",
    "import geopandas\n",
    "import rioxarray\n",
    "from shapely.geometry import mapping"
   ]
  },
  {
   "cell_type": "code",
   "execution_count": null,
   "id": "17a5daa9-13fa-43a1-9194-b93815358416",
   "metadata": {},
   "outputs": [],
   "source": []
  }
 ],
 "metadata": {
  "kernelspec": {
   "display_name": "Python 3 (ipykernel)",
   "language": "python",
   "name": "python3"
  },
  "language_info": {
   "codemirror_mode": {
    "name": "ipython",
    "version": 3
   },
   "file_extension": ".py",
   "mimetype": "text/x-python",
   "name": "python",
   "nbconvert_exporter": "python",
   "pygments_lexer": "ipython3",
   "version": "3.12.0"
  }
 },
 "nbformat": 4,
 "nbformat_minor": 5
}
