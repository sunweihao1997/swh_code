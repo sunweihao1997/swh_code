{
 "cells": [
  {
   "cell_type": "code",
   "execution_count": 5,
   "metadata": {},
   "outputs": [],
   "source": [
    "import numpy as np\n",
    "from datetime import datetime,timedelta\n",
    "from netCDF4 import Dataset\n",
    "#import tensorflow as tf\n",
    "#from tensorflow.keras import Model, datasets, layers, models, backend\n",
    "#from tensorflow import keras\n",
    "from contextlib import redirect_stdout\n",
    "import os, sys\n",
    "import psutil, os\n",
    "#import matplotlib.pyplot as plt\n",
    "from cftime import num2date, date2num\n",
    "import matplotlib.pyplot as plt\n",
    "#! pip install shap\n",
    "#! pip install visualkeras"
   ]
  },
  {
   "cell_type": "code",
   "execution_count": 9,
   "metadata": {},
   "outputs": [
    {
     "name": "stdout",
     "output_type": "stream",
     "text": [
      "(28764, 3, 24, 72)\n"
     ]
    }
   ],
   "source": [
    "#fsst = xr.open_dataset(\"/home/sun/data/data_all/tos_training.nc\")\n",
    "nr_times = 28764\n",
    "f1 = Dataset('/home/sun/data/data_all/tos_training.nc')\n",
    "sst = f1.variables['sst'][0:nr_times,:,:,:]\n",
    "print(sst.shape)"
   ]
  },
  {
   "cell_type": "code",
   "execution_count": 15,
   "metadata": {},
   "outputs": [
    {
     "name": "stdout",
     "output_type": "stream",
     "text": [
      "[-0.61700439 -0.58737183 -0.46368408]\n"
     ]
    }
   ],
   "source": [
    "print(sst[0, :, 0, 5])"
   ]
  },
  {
   "cell_type": "code",
   "execution_count": 16,
   "metadata": {},
   "outputs": [
    {
     "name": "stdout",
     "output_type": "stream",
     "text": [
      "[-0.58737183 -0.46368408 -0.34844971]\n"
     ]
    }
   ],
   "source": [
    "print(sst[1, :, 0, 5])"
   ]
  },
  {
   "cell_type": "code",
   "execution_count": 17,
   "metadata": {},
   "outputs": [
    {
     "name": "stdout",
     "output_type": "stream",
     "text": [
      "[-0.46368408 -0.34844971 -0.30187988]\n"
     ]
    }
   ],
   "source": [
    "print(sst[2, :, 0, 5])"
   ]
  },
  {
   "cell_type": "code",
   "execution_count": 18,
   "metadata": {},
   "outputs": [],
   "source": [
    "tdim, zdim, ydim, xdim = sst.shape"
   ]
  },
  {
   "cell_type": "code",
   "execution_count": 19,
   "metadata": {},
   "outputs": [],
   "source": [
    "tr_x = np.swapaxes(sst, 1, 3)"
   ]
  },
  {
   "cell_type": "code",
   "execution_count": 20,
   "metadata": {},
   "outputs": [
    {
     "data": {
      "text/plain": [
       "(28764, 72, 24, 3)"
      ]
     },
     "execution_count": 20,
     "metadata": {},
     "output_type": "execute_result"
    }
   ],
   "source": [
    "tr_x.shape"
   ]
  },
  {
   "cell_type": "code",
   "execution_count": null,
   "metadata": {},
   "outputs": [],
   "source": []
  }
 ],
 "metadata": {
  "kernelspec": {
   "display_name": "Python 3.9.13 ('swh2')",
   "language": "python",
   "name": "python3"
  },
  "language_info": {
   "codemirror_mode": {
    "name": "ipython",
    "version": 3
   },
   "file_extension": ".py",
   "mimetype": "text/x-python",
   "name": "python",
   "nbconvert_exporter": "python",
   "pygments_lexer": "ipython3",
   "version": "3.9.13"
  },
  "orig_nbformat": 4,
  "vscode": {
   "interpreter": {
    "hash": "1016a0a2207b6b1f71541f136b27f75bc6b8f6137d45e0ed462690f4ed24c7ed"
   }
  }
 },
 "nbformat": 4,
 "nbformat_minor": 2
}
