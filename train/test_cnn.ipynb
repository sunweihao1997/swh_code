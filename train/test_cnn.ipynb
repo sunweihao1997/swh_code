{
 "cells": [
  {
   "cell_type": "code",
   "execution_count": 1,
   "metadata": {},
   "outputs": [
    {
     "name": "stdout",
     "output_type": "stream",
     "text": [
      "Using device: cuda\n",
      "Downloading http://yann.lecun.com/exdb/mnist/train-images-idx3-ubyte.gz\n",
      "Failed to download (trying next):\n",
      "<urlopen error [SSL: CERTIFICATE_VERIFY_FAILED] certificate verify failed: certificate has expired (_ssl.c:1147)>\n",
      "\n",
      "Downloading https://ossci-datasets.s3.amazonaws.com/mnist/train-images-idx3-ubyte.gz\n",
      "Downloading https://ossci-datasets.s3.amazonaws.com/mnist/train-images-idx3-ubyte.gz to ./data/MNIST/raw/train-images-idx3-ubyte.gz\n"
     ]
    },
    {
     "name": "stderr",
     "output_type": "stream",
     "text": [
      "100.0%\n"
     ]
    },
    {
     "name": "stdout",
     "output_type": "stream",
     "text": [
      "Extracting ./data/MNIST/raw/train-images-idx3-ubyte.gz to ./data/MNIST/raw\n",
      "\n",
      "Downloading http://yann.lecun.com/exdb/mnist/train-labels-idx1-ubyte.gz\n",
      "Failed to download (trying next):\n",
      "<urlopen error [SSL: CERTIFICATE_VERIFY_FAILED] certificate verify failed: certificate has expired (_ssl.c:1147)>\n",
      "\n",
      "Downloading https://ossci-datasets.s3.amazonaws.com/mnist/train-labels-idx1-ubyte.gz\n",
      "Downloading https://ossci-datasets.s3.amazonaws.com/mnist/train-labels-idx1-ubyte.gz to ./data/MNIST/raw/train-labels-idx1-ubyte.gz\n"
     ]
    },
    {
     "name": "stderr",
     "output_type": "stream",
     "text": [
      "100.0%\n"
     ]
    },
    {
     "name": "stdout",
     "output_type": "stream",
     "text": [
      "Extracting ./data/MNIST/raw/train-labels-idx1-ubyte.gz to ./data/MNIST/raw\n",
      "\n",
      "Downloading http://yann.lecun.com/exdb/mnist/t10k-images-idx3-ubyte.gz\n",
      "Failed to download (trying next):\n",
      "<urlopen error [SSL: CERTIFICATE_VERIFY_FAILED] certificate verify failed: certificate has expired (_ssl.c:1147)>\n",
      "\n",
      "Downloading https://ossci-datasets.s3.amazonaws.com/mnist/t10k-images-idx3-ubyte.gz\n",
      "Downloading https://ossci-datasets.s3.amazonaws.com/mnist/t10k-images-idx3-ubyte.gz to ./data/MNIST/raw/t10k-images-idx3-ubyte.gz\n"
     ]
    },
    {
     "name": "stderr",
     "output_type": "stream",
     "text": [
      "100.0%\n"
     ]
    },
    {
     "name": "stdout",
     "output_type": "stream",
     "text": [
      "Extracting ./data/MNIST/raw/t10k-images-idx3-ubyte.gz to ./data/MNIST/raw\n",
      "\n",
      "Downloading http://yann.lecun.com/exdb/mnist/t10k-labels-idx1-ubyte.gz\n",
      "Failed to download (trying next):\n",
      "<urlopen error [SSL: CERTIFICATE_VERIFY_FAILED] certificate verify failed: certificate has expired (_ssl.c:1147)>\n",
      "\n",
      "Downloading https://ossci-datasets.s3.amazonaws.com/mnist/t10k-labels-idx1-ubyte.gz\n",
      "Downloading https://ossci-datasets.s3.amazonaws.com/mnist/t10k-labels-idx1-ubyte.gz to ./data/MNIST/raw/t10k-labels-idx1-ubyte.gz\n"
     ]
    },
    {
     "name": "stderr",
     "output_type": "stream",
     "text": [
      "100.0%\n"
     ]
    },
    {
     "name": "stdout",
     "output_type": "stream",
     "text": [
      "Extracting ./data/MNIST/raw/t10k-labels-idx1-ubyte.gz to ./data/MNIST/raw\n",
      "\n",
      "Train Epoch: 1 [0/60000 (0%)]\tLoss: 2.324441\n",
      "Train Epoch: 1 [6400/60000 (11%)]\tLoss: 0.206574\n",
      "Train Epoch: 1 [12800/60000 (21%)]\tLoss: 0.226274\n",
      "Train Epoch: 1 [19200/60000 (32%)]\tLoss: 0.101152\n",
      "Train Epoch: 1 [25600/60000 (43%)]\tLoss: 0.040459\n",
      "Train Epoch: 1 [32000/60000 (53%)]\tLoss: 0.011668\n",
      "Train Epoch: 1 [38400/60000 (64%)]\tLoss: 0.021669\n",
      "Train Epoch: 1 [44800/60000 (75%)]\tLoss: 0.011565\n",
      "Train Epoch: 1 [51200/60000 (85%)]\tLoss: 0.137046\n",
      "Train Epoch: 1 [57600/60000 (96%)]\tLoss: 0.023550\n",
      "\n",
      "Test set: Average loss: 0.0007, Accuracy: 9847/10000 (98%)\n",
      "\n",
      "Train Epoch: 2 [0/60000 (0%)]\tLoss: 0.154384\n",
      "Train Epoch: 2 [6400/60000 (11%)]\tLoss: 0.025034\n",
      "Train Epoch: 2 [12800/60000 (21%)]\tLoss: 0.095330\n",
      "Train Epoch: 2 [19200/60000 (32%)]\tLoss: 0.028041\n",
      "Train Epoch: 2 [25600/60000 (43%)]\tLoss: 0.014213\n",
      "Train Epoch: 2 [32000/60000 (53%)]\tLoss: 0.096143\n",
      "Train Epoch: 2 [38400/60000 (64%)]\tLoss: 0.016039\n",
      "Train Epoch: 2 [44800/60000 (75%)]\tLoss: 0.011331\n",
      "Train Epoch: 2 [51200/60000 (85%)]\tLoss: 0.005087\n",
      "Train Epoch: 2 [57600/60000 (96%)]\tLoss: 0.028468\n",
      "\n",
      "Test set: Average loss: 0.0007, Accuracy: 9860/10000 (99%)\n",
      "\n",
      "Train Epoch: 3 [0/60000 (0%)]\tLoss: 0.008086\n",
      "Train Epoch: 3 [6400/60000 (11%)]\tLoss: 0.025607\n",
      "Train Epoch: 3 [12800/60000 (21%)]\tLoss: 0.020245\n",
      "Train Epoch: 3 [19200/60000 (32%)]\tLoss: 0.039512\n",
      "Train Epoch: 3 [25600/60000 (43%)]\tLoss: 0.007119\n",
      "Train Epoch: 3 [32000/60000 (53%)]\tLoss: 0.013879\n",
      "Train Epoch: 3 [38400/60000 (64%)]\tLoss: 0.043397\n",
      "Train Epoch: 3 [44800/60000 (75%)]\tLoss: 0.008924\n",
      "Train Epoch: 3 [51200/60000 (85%)]\tLoss: 0.002752\n",
      "Train Epoch: 3 [57600/60000 (96%)]\tLoss: 0.005522\n",
      "\n",
      "Test set: Average loss: 0.0006, Accuracy: 9873/10000 (99%)\n",
      "\n",
      "Train Epoch: 4 [0/60000 (0%)]\tLoss: 0.105583\n",
      "Train Epoch: 4 [6400/60000 (11%)]\tLoss: 0.021604\n",
      "Train Epoch: 4 [12800/60000 (21%)]\tLoss: 0.006195\n",
      "Train Epoch: 4 [19200/60000 (32%)]\tLoss: 0.004478\n",
      "Train Epoch: 4 [25600/60000 (43%)]\tLoss: 0.017269\n",
      "Train Epoch: 4 [32000/60000 (53%)]\tLoss: 0.002043\n",
      "Train Epoch: 4 [38400/60000 (64%)]\tLoss: 0.024173\n",
      "Train Epoch: 4 [44800/60000 (75%)]\tLoss: 0.057540\n",
      "Train Epoch: 4 [51200/60000 (85%)]\tLoss: 0.008141\n",
      "Train Epoch: 4 [57600/60000 (96%)]\tLoss: 0.001699\n",
      "\n",
      "Test set: Average loss: 0.0005, Accuracy: 9889/10000 (99%)\n",
      "\n",
      "Train Epoch: 5 [0/60000 (0%)]\tLoss: 0.009586\n",
      "Train Epoch: 5 [6400/60000 (11%)]\tLoss: 0.006089\n",
      "Train Epoch: 5 [12800/60000 (21%)]\tLoss: 0.010374\n",
      "Train Epoch: 5 [19200/60000 (32%)]\tLoss: 0.050607\n",
      "Train Epoch: 5 [25600/60000 (43%)]\tLoss: 0.030142\n",
      "Train Epoch: 5 [32000/60000 (53%)]\tLoss: 0.078125\n",
      "Train Epoch: 5 [38400/60000 (64%)]\tLoss: 0.077881\n",
      "Train Epoch: 5 [44800/60000 (75%)]\tLoss: 0.000763\n",
      "Train Epoch: 5 [51200/60000 (85%)]\tLoss: 0.050944\n",
      "Train Epoch: 5 [57600/60000 (96%)]\tLoss: 0.001149\n",
      "\n",
      "Test set: Average loss: 0.0006, Accuracy: 9893/10000 (99%)\n",
      "\n"
     ]
    }
   ],
   "source": [
    "import torch\n",
    "import torch.nn as nn\n",
    "import torch.optim as optim\n",
    "import torch.nn.functional as F\n",
    "from torchvision import datasets, transforms\n",
    "\n",
    "# 检查GPU是否可用\n",
    "device = torch.device(\"cuda\" if torch.cuda.is_available() else \"cpu\")\n",
    "print(f\"Using device: {device}\")\n",
    "\n",
    "# 定义一个简单的CNN模型\n",
    "class SimpleCNN(nn.Module):\n",
    "    def __init__(self):\n",
    "        super(SimpleCNN, self).__init__()\n",
    "        # 卷积层 1: 输入是1个通道（MNIST图像是灰度的），输出是32个通道，卷积核大小为3x3\n",
    "        self.conv1 = nn.Conv2d(1, 32, kernel_size=3, padding=1)\n",
    "        # 卷积层 2: 输入是32个通道，输出是64个通道，卷积核大小为3x3\n",
    "        self.conv2 = nn.Conv2d(32, 64, kernel_size=3, padding=1)\n",
    "        # 最大池化层\n",
    "        self.pool = nn.MaxPool2d(2, 2)\n",
    "        # 全连接层，输入为7*7*64（图像从28x28缩小到7x7，通道数为64），输出为128\n",
    "        self.fc1 = nn.Linear(64 * 7 * 7, 128)\n",
    "        # 输出层，输入为128，输出为10（MNIST有10个类别）\n",
    "        self.fc2 = nn.Linear(128, 10)\n",
    "\n",
    "    def forward(self, x):\n",
    "        # 卷积 -> ReLU -> 池化\n",
    "        x = self.pool(F.relu(self.conv1(x)))\n",
    "        x = self.pool(F.relu(self.conv2(x)))\n",
    "        # 展平\n",
    "        x = x.view(-1, 64 * 7 * 7)\n",
    "        # 全连接层 -> ReLU\n",
    "        x = F.relu(self.fc1(x))\n",
    "        # 输出层（不加激活函数，因为交叉熵损失函数会处理 softmax）\n",
    "        x = self.fc2(x)\n",
    "        return x\n",
    "\n",
    "# 定义超参数\n",
    "batch_size = 64\n",
    "learning_rate = 0.001\n",
    "num_epochs = 5\n",
    "\n",
    "# MNIST数据集的加载器\n",
    "transform = transforms.Compose([transforms.ToTensor(), transforms.Normalize((0.1307,), (0.3081,))])\n",
    "\n",
    "train_dataset = datasets.MNIST(root='./data', train=True, download=True, transform=transform)\n",
    "test_dataset = datasets.MNIST(root='./data', train=False, download=True, transform=transform)\n",
    "\n",
    "train_loader = torch.utils.data.DataLoader(dataset=train_dataset, batch_size=batch_size, shuffle=True)\n",
    "test_loader = torch.utils.data.DataLoader(dataset=test_dataset, batch_size=batch_size, shuffle=False)\n",
    "\n",
    "# 初始化模型、损失函数和优化器\n",
    "model = SimpleCNN().to(device)\n",
    "criterion = nn.CrossEntropyLoss()\n",
    "optimizer = optim.Adam(model.parameters(), lr=learning_rate)\n",
    "\n",
    "# 训练模型\n",
    "def train(model, device, train_loader, optimizer, criterion, epoch):\n",
    "    model.train()\n",
    "    for batch_idx, (data, target) in enumerate(train_loader):\n",
    "        data, target = data.to(device), target.to(device)\n",
    "        \n",
    "        # 梯度清零\n",
    "        optimizer.zero_grad()\n",
    "        # 前向传播\n",
    "        output = model(data)\n",
    "        # 计算损失\n",
    "        loss = criterion(output, target)\n",
    "        # 反向传播\n",
    "        loss.backward()\n",
    "        # 更新权重\n",
    "        optimizer.step()\n",
    "\n",
    "        if batch_idx % 100 == 0:\n",
    "            print(f'Train Epoch: {epoch} [{batch_idx * len(data)}/{len(train_loader.dataset)} ({100. * batch_idx / len(train_loader):.0f}%)]\\tLoss: {loss.item():.6f}')\n",
    "\n",
    "# 测试模型\n",
    "def test(model, device, test_loader, criterion):\n",
    "    model.eval()\n",
    "    test_loss = 0\n",
    "    correct = 0\n",
    "    with torch.no_grad():\n",
    "        for data, target in test_loader:\n",
    "            data, target = data.to(device), target.to(device)\n",
    "            output = model(data)\n",
    "            test_loss += criterion(output, target).item()  # 累加batch的损失\n",
    "            pred = output.argmax(dim=1, keepdim=True)  # 获取最大概率的索引\n",
    "            correct += pred.eq(target.view_as(pred)).sum().item()\n",
    "\n",
    "    test_loss /= len(test_loader.dataset)\n",
    "    accuracy = 100. * correct / len(test_loader.dataset)\n",
    "    print(f'\\nTest set: Average loss: {test_loss:.4f}, Accuracy: {correct}/{len(test_loader.dataset)} ({accuracy:.0f}%)\\n')\n",
    "\n",
    "# 运行训练和测试\n",
    "for epoch in range(1, num_epochs + 1):\n",
    "    train(model, device, train_loader, optimizer, criterion, epoch)\n",
    "    test(model, device, test_loader, criterion)\n",
    "\n"
   ]
  },
  {
   "cell_type": "code",
   "execution_count": null,
   "metadata": {},
   "outputs": [],
   "source": []
  }
 ],
 "metadata": {
  "kernelspec": {
   "display_name": "Python 3.9.20 ('pt')",
   "language": "python",
   "name": "python3"
  },
  "language_info": {
   "codemirror_mode": {
    "name": "ipython",
    "version": 3
   },
   "file_extension": ".py",
   "mimetype": "text/x-python",
   "name": "python",
   "nbconvert_exporter": "python",
   "pygments_lexer": "ipython3",
   "version": "3.9.20"
  },
  "orig_nbformat": 4,
  "vscode": {
   "interpreter": {
    "hash": "f3254bc0da568b1b5226fdcf76da2a1e84502dbca9af32cd10e3cfd412609771"
   }
  }
 },
 "nbformat": 4,
 "nbformat_minor": 2
}
